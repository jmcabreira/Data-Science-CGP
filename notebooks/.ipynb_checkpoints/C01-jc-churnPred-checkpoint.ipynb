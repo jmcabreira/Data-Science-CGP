{
 "cells": [
  {
   "cell_type": "markdown",
   "id": "b9cc103a-db28-40c7-81b7-c89c65adeca3",
   "metadata": {},
   "source": [
    "# <center> Churn Prediction <center/>\n",
    "    "
   ]
  },
  {
   "cell_type": "markdown",
   "id": "574fd86c-0052-4e68-b68e-ba37e51a2f3c",
   "metadata": {},
   "source": [
    "# Premises"
   ]
  },
  {
   "cell_type": "markdown",
   "id": "0567c9bd-974d-4a54-a6d1-ef07bf18f137",
   "metadata": {},
   "source": [
    "* The bank revenue comes from clients transactions\n",
    "* We will estimate the average revenue as: \n",
    "    * 15% of the client salary, if the their salary is lower than the mean salary of all the bank clients\n",
    "    * 20% of the client salary, if the their salary is greater or equal the mean salary of all the bank clients\n",
    "\n",
    "<br>"
   ]
  },
  {
   "cell_type": "markdown",
   "id": "5ad3034d-dee9-49ab-9899-5db2aa56ae90",
   "metadata": {},
   "source": [
    "# The Business Problem:\n",
    "* Anuanly, part of the bank clients do not renew their contract\n",
    "* The goal is to predict which clients are more likely to leave ( do not renew their contract)\n",
    "    "
   ]
  },
  {
   "cell_type": "markdown",
   "id": "4f42b6c2-2095-4ac1-bea0-9aeecf72d560",
   "metadata": {},
   "source": [
    "<br>"
   ]
  },
  {
   "cell_type": "markdown",
   "id": "8aad5fcc-1950-497c-a06a-f3fe8ab0a20a",
   "metadata": {
    "tags": []
   },
   "source": [
    "# 0.0 Imports"
   ]
  },
  {
   "cell_type": "code",
   "execution_count": 1,
   "id": "9651bdb8-c1a1-4432-8c9d-960a86990bbe",
   "metadata": {},
   "outputs": [],
   "source": [
    "import pandas as pd\n",
    "import numpy as np\n",
    "import matplotlib.pyplot as plt\n",
    "import seaborn as sns\n",
    "import os"
   ]
  },
  {
   "cell_type": "markdown",
   "id": "83c82237-c168-45a8-8d8e-ac060ea15147",
   "metadata": {
    "tags": []
   },
   "source": [
    "## 0.1 Functions"
   ]
  },
  {
   "cell_type": "code",
   "execution_count": 2,
   "id": "093bbbae-28bd-4d81-88de-8793802618b7",
   "metadata": {},
   "outputs": [],
   "source": [
    "def descriptive_sts(num_attributes):\n",
    "    # Central Tedency - mean, median\n",
    "    ct1 = pd.DataFrame(num_attributes.apply(np.mean)).T\n",
    "    ct2 = pd.DataFrame(num_attributes.apply(np.median)).T\n",
    "\n",
    "    #Dispersion - str,min, max,range,skew,kurtosis\n",
    "    d1 = pd.DataFrame(num_attributes.apply(np.std)).T\n",
    "    d2 = pd.DataFrame(num_attributes.apply(min)).T\n",
    "    d3 = pd.DataFrame(num_attributes.apply(max)).T\n",
    "    d4 = pd.DataFrame(num_attributes.apply(lambda x : x.max() - x.min())).T\n",
    "    d5 = pd.DataFrame(num_attributes.apply(lambda x : x.skew())).T\n",
    "    d6 = pd.DataFrame(num_attributes.apply(lambda x : x.kurtosis())).T\n",
    "\n",
    "    #Contatenate\n",
    "    m = pd.concat([d2,d3,d4,ct1,ct2,d1,d5,d6]).T.reset_index()\n",
    "    m.columns = ['attributes', 'min', 'max', 'range','mean','median', 'std','skew','kurtosis']\n",
    "    return m"
   ]
  },
  {
   "cell_type": "markdown",
   "id": "e5624df5-8059-4fb2-b68d-48e99b9129a9",
   "metadata": {
    "tags": []
   },
   "source": [
    "## 0.2 Load Data"
   ]
  },
  {
   "cell_type": "code",
   "execution_count": 3,
   "id": "65c6c230-f5f6-465b-9b33-261f34005bea",
   "metadata": {},
   "outputs": [],
   "source": [
    "BUCKET_NAME = 'landing-zone-ds'\n",
    "FILE_NAME = 'churn.csv'"
   ]
  },
  {
   "cell_type": "code",
   "execution_count": 4,
   "id": "12052807-212a-49cc-b404-7ed2a5f92df4",
   "metadata": {},
   "outputs": [
    {
     "data": {
      "text/html": [
       "<div>\n",
       "<style scoped>\n",
       "    .dataframe tbody tr th:only-of-type {\n",
       "        vertical-align: middle;\n",
       "    }\n",
       "\n",
       "    .dataframe tbody tr th {\n",
       "        vertical-align: top;\n",
       "    }\n",
       "\n",
       "    .dataframe thead th {\n",
       "        text-align: right;\n",
       "    }\n",
       "</style>\n",
       "<table border=\"1\" class=\"dataframe\">\n",
       "  <thead>\n",
       "    <tr style=\"text-align: right;\">\n",
       "      <th></th>\n",
       "      <th>RowNumber</th>\n",
       "      <th>CustomerId</th>\n",
       "      <th>Surname</th>\n",
       "      <th>CreditScore</th>\n",
       "      <th>Geography</th>\n",
       "      <th>Gender</th>\n",
       "      <th>Age</th>\n",
       "      <th>Tenure</th>\n",
       "      <th>Balance</th>\n",
       "      <th>NumOfProducts</th>\n",
       "      <th>HasCrCard</th>\n",
       "      <th>IsActiveMember</th>\n",
       "      <th>EstimatedSalary</th>\n",
       "      <th>Exited</th>\n",
       "    </tr>\n",
       "  </thead>\n",
       "  <tbody>\n",
       "    <tr>\n",
       "      <th>0</th>\n",
       "      <td>1</td>\n",
       "      <td>15634602</td>\n",
       "      <td>Hargrave</td>\n",
       "      <td>619</td>\n",
       "      <td>France</td>\n",
       "      <td>Female</td>\n",
       "      <td>42</td>\n",
       "      <td>2</td>\n",
       "      <td>0.00</td>\n",
       "      <td>1</td>\n",
       "      <td>1</td>\n",
       "      <td>1</td>\n",
       "      <td>101348.88</td>\n",
       "      <td>1</td>\n",
       "    </tr>\n",
       "    <tr>\n",
       "      <th>1</th>\n",
       "      <td>2</td>\n",
       "      <td>15647311</td>\n",
       "      <td>Hill</td>\n",
       "      <td>608</td>\n",
       "      <td>Spain</td>\n",
       "      <td>Female</td>\n",
       "      <td>41</td>\n",
       "      <td>1</td>\n",
       "      <td>83807.86</td>\n",
       "      <td>1</td>\n",
       "      <td>0</td>\n",
       "      <td>1</td>\n",
       "      <td>112542.58</td>\n",
       "      <td>0</td>\n",
       "    </tr>\n",
       "    <tr>\n",
       "      <th>2</th>\n",
       "      <td>3</td>\n",
       "      <td>15619304</td>\n",
       "      <td>Onio</td>\n",
       "      <td>502</td>\n",
       "      <td>France</td>\n",
       "      <td>Female</td>\n",
       "      <td>42</td>\n",
       "      <td>8</td>\n",
       "      <td>159660.80</td>\n",
       "      <td>3</td>\n",
       "      <td>1</td>\n",
       "      <td>0</td>\n",
       "      <td>113931.57</td>\n",
       "      <td>1</td>\n",
       "    </tr>\n",
       "    <tr>\n",
       "      <th>3</th>\n",
       "      <td>4</td>\n",
       "      <td>15701354</td>\n",
       "      <td>Boni</td>\n",
       "      <td>699</td>\n",
       "      <td>France</td>\n",
       "      <td>Female</td>\n",
       "      <td>39</td>\n",
       "      <td>1</td>\n",
       "      <td>0.00</td>\n",
       "      <td>2</td>\n",
       "      <td>0</td>\n",
       "      <td>0</td>\n",
       "      <td>93826.63</td>\n",
       "      <td>0</td>\n",
       "    </tr>\n",
       "    <tr>\n",
       "      <th>4</th>\n",
       "      <td>5</td>\n",
       "      <td>15737888</td>\n",
       "      <td>Mitchell</td>\n",
       "      <td>850</td>\n",
       "      <td>Spain</td>\n",
       "      <td>Female</td>\n",
       "      <td>43</td>\n",
       "      <td>2</td>\n",
       "      <td>125510.82</td>\n",
       "      <td>1</td>\n",
       "      <td>1</td>\n",
       "      <td>1</td>\n",
       "      <td>79084.10</td>\n",
       "      <td>0</td>\n",
       "    </tr>\n",
       "  </tbody>\n",
       "</table>\n",
       "</div>"
      ],
      "text/plain": [
       "   RowNumber  CustomerId   Surname  CreditScore Geography  Gender  Age  \\\n",
       "0          1    15634602  Hargrave          619    France  Female   42   \n",
       "1          2    15647311      Hill          608     Spain  Female   41   \n",
       "2          3    15619304      Onio          502    France  Female   42   \n",
       "3          4    15701354      Boni          699    France  Female   39   \n",
       "4          5    15737888  Mitchell          850     Spain  Female   43   \n",
       "\n",
       "   Tenure    Balance  NumOfProducts  HasCrCard  IsActiveMember  \\\n",
       "0       2       0.00              1          1               1   \n",
       "1       1   83807.86              1          0               1   \n",
       "2       8  159660.80              3          1               0   \n",
       "3       1       0.00              2          0               0   \n",
       "4       2  125510.82              1          1               1   \n",
       "\n",
       "   EstimatedSalary  Exited  \n",
       "0        101348.88       1  \n",
       "1        112542.58       0  \n",
       "2        113931.57       1  \n",
       "3         93826.63       0  \n",
       "4         79084.10       0  "
      ]
     },
     "execution_count": 4,
     "metadata": {},
     "output_type": "execute_result"
    }
   ],
   "source": [
    "df_raw = pd.read_csv(os.path.join('gs://', BUCKET_NAME, FILE_NAME))\n",
    "df_raw.head()"
   ]
  },
  {
   "cell_type": "markdown",
   "id": "62e15448-8d3a-4022-abd2-92b62a8ad0c4",
   "metadata": {
    "tags": []
   },
   "source": [
    "# 1.0 Data Description"
   ]
  },
  {
   "cell_type": "markdown",
   "id": "0ef2d0c5-d4a0-413b-96ee-09d4c33a1011",
   "metadata": {},
   "source": [
    "* RowNumber: corresponds to the record (row) number and has no effect on the output.\n",
    "* CustomerId: contains random values and has no effect on customer leaving the bank.\n",
    "* Surname: the surname of a customer has no impact on their decision to leave the bank.\n",
    "* CreditScore: can have an effect on customer churn, since a customer with a higher credit score is less likely to leave the bank.\n",
    "* Geography: a customer’s location can affect their decision to leave the bank.\n",
    "* Gender: it’s interesting to explore whether gender plays a role in a customer leaving the bank.\n",
    "* Age: this is certainly relevant, since older customers are less likely to leave their bank than younger ones.\n",
    "* Tenure: refers to the number of years that the customer has been a client of the bank. Normally, older clients are more loyal and less likely to leave a bank.\n",
    "* Balance: also a very good indicator of customer churn, as people with a higher balance in their accounts are less likely to leave the bank compared to those with lower balances.\n",
    "* NumOfProducts: refers to the number of products that a customer has purchased through the bank.\n",
    "* HasCrCard: denotes whether or not a customer has a credit card. This column is also relevant, since people with a credit card are less likely to leave the bank.\n",
    "* IsActiveMember: active customers are less likely to leave the bank.\n",
    "* EstimatedSalary: as with balance, people with lower salaries are more likely to leave the bank compared to those with higher salaries.\n",
    "* Exited: whether or not the customer left the bank. (0=No,1=Yes)"
   ]
  },
  {
   "cell_type": "markdown",
   "id": "9c9da5b2-2f4f-4a51-93c0-74cbccc939ed",
   "metadata": {
    "tags": []
   },
   "source": [
    "## 1.1 Data Dimension"
   ]
  },
  {
   "cell_type": "code",
   "execution_count": 5,
   "id": "6e072000-51b3-4bf9-8edb-6f4bebd9cebe",
   "metadata": {},
   "outputs": [],
   "source": [
    "df1 = df_raw.copy()"
   ]
  },
  {
   "cell_type": "code",
   "execution_count": 6,
   "id": "1f598165-5908-4201-8a8d-a61e51abde9a",
   "metadata": {},
   "outputs": [
    {
     "name": "stdout",
     "output_type": "stream",
     "text": [
      "Number of Rows: 10000\n",
      "Number of Columns: 14\n"
     ]
    }
   ],
   "source": [
    "print('Number of Rows: {}'.format(df1.shape[0]))\n",
    "print('Number of Columns: {}'.format(df1.shape[1]))"
   ]
  },
  {
   "cell_type": "markdown",
   "id": "4ed66dc4-9baf-44b3-99fc-dfed5a671e4b",
   "metadata": {
    "tags": []
   },
   "source": [
    "## 1.2 Data Types"
   ]
  },
  {
   "cell_type": "code",
   "execution_count": 7,
   "id": "c89d5fcf-c478-402e-9cab-ee662ec1bda6",
   "metadata": {},
   "outputs": [
    {
     "data": {
      "text/plain": [
       "RowNumber            int64\n",
       "CustomerId           int64\n",
       "Surname             object\n",
       "CreditScore          int64\n",
       "Geography           object\n",
       "Gender              object\n",
       "Age                  int64\n",
       "Tenure               int64\n",
       "Balance            float64\n",
       "NumOfProducts        int64\n",
       "HasCrCard            int64\n",
       "IsActiveMember       int64\n",
       "EstimatedSalary    float64\n",
       "Exited               int64\n",
       "dtype: object"
      ]
     },
     "execution_count": 7,
     "metadata": {},
     "output_type": "execute_result"
    }
   ],
   "source": [
    "df1.dtypes"
   ]
  },
  {
   "cell_type": "markdown",
   "id": "74f858a3-64a2-4704-af7f-ce2c07c5867d",
   "metadata": {
    "tags": []
   },
   "source": [
    "## 1.3 Check NaN"
   ]
  },
  {
   "cell_type": "code",
   "execution_count": 8,
   "id": "3b8c7edb-707b-4787-bf47-cb84f49cdb1d",
   "metadata": {},
   "outputs": [
    {
     "data": {
      "text/plain": [
       "RowNumber          0\n",
       "CustomerId         0\n",
       "Surname            0\n",
       "CreditScore        0\n",
       "Geography          0\n",
       "Gender             0\n",
       "Age                0\n",
       "Tenure             0\n",
       "Balance            0\n",
       "NumOfProducts      0\n",
       "HasCrCard          0\n",
       "IsActiveMember     0\n",
       "EstimatedSalary    0\n",
       "Exited             0\n",
       "dtype: int64"
      ]
     },
     "execution_count": 8,
     "metadata": {},
     "output_type": "execute_result"
    }
   ],
   "source": [
    "df1.isnull().sum()"
   ]
  },
  {
   "cell_type": "markdown",
   "id": "11f84d03-bc61-49d9-a4b7-60018b30ae7b",
   "metadata": {
    "tags": []
   },
   "source": [
    "## 1.4 Change Data Types"
   ]
  },
  {
   "cell_type": "code",
   "execution_count": 9,
   "id": "88381259-df94-4249-915b-10b0d91e7c90",
   "metadata": {},
   "outputs": [],
   "source": [
    "df1['CustomerId'] = df1['CustomerId'] .astype('str')"
   ]
  },
  {
   "cell_type": "markdown",
   "id": "00df8f06-4d4f-4e5f-870c-8e465b4d3e15",
   "metadata": {
    "tags": []
   },
   "source": [
    "## 1.5 Descriptive Statistics"
   ]
  },
  {
   "cell_type": "markdown",
   "id": "3a9c112d-938c-4a03-98ad-243f1740f17e",
   "metadata": {
    "tags": []
   },
   "source": [
    "### 1.5.1 Numerical Attributes"
   ]
  },
  {
   "cell_type": "code",
   "execution_count": 10,
   "id": "f6368496-1ceb-474a-ae30-3b9f962f61f5",
   "metadata": {},
   "outputs": [],
   "source": [
    "num_attributes = df1.select_dtypes(include = ['int64', 'float64'])"
   ]
  },
  {
   "cell_type": "code",
   "execution_count": 11,
   "id": "b47ed39e-6ece-46f6-8649-94c0b577f04f",
   "metadata": {},
   "outputs": [
    {
     "data": {
      "text/html": [
       "<div>\n",
       "<style scoped>\n",
       "    .dataframe tbody tr th:only-of-type {\n",
       "        vertical-align: middle;\n",
       "    }\n",
       "\n",
       "    .dataframe tbody tr th {\n",
       "        vertical-align: top;\n",
       "    }\n",
       "\n",
       "    .dataframe thead th {\n",
       "        text-align: right;\n",
       "    }\n",
       "</style>\n",
       "<table border=\"1\" class=\"dataframe\">\n",
       "  <thead>\n",
       "    <tr style=\"text-align: right;\">\n",
       "      <th></th>\n",
       "      <th>attributes</th>\n",
       "      <th>min</th>\n",
       "      <th>max</th>\n",
       "      <th>range</th>\n",
       "      <th>mean</th>\n",
       "      <th>median</th>\n",
       "      <th>std</th>\n",
       "      <th>skew</th>\n",
       "      <th>kurtosis</th>\n",
       "    </tr>\n",
       "  </thead>\n",
       "  <tbody>\n",
       "    <tr>\n",
       "      <th>0</th>\n",
       "      <td>RowNumber</td>\n",
       "      <td>1.00</td>\n",
       "      <td>10000.00</td>\n",
       "      <td>9999.00</td>\n",
       "      <td>5000.500000</td>\n",
       "      <td>5000.500</td>\n",
       "      <td>2886.751332</td>\n",
       "      <td>0.000000</td>\n",
       "      <td>-1.200000</td>\n",
       "    </tr>\n",
       "    <tr>\n",
       "      <th>1</th>\n",
       "      <td>CreditScore</td>\n",
       "      <td>350.00</td>\n",
       "      <td>850.00</td>\n",
       "      <td>500.00</td>\n",
       "      <td>650.528800</td>\n",
       "      <td>652.000</td>\n",
       "      <td>96.648466</td>\n",
       "      <td>-0.071607</td>\n",
       "      <td>-0.425726</td>\n",
       "    </tr>\n",
       "    <tr>\n",
       "      <th>2</th>\n",
       "      <td>Age</td>\n",
       "      <td>18.00</td>\n",
       "      <td>92.00</td>\n",
       "      <td>74.00</td>\n",
       "      <td>38.921800</td>\n",
       "      <td>37.000</td>\n",
       "      <td>10.487282</td>\n",
       "      <td>1.011320</td>\n",
       "      <td>1.395347</td>\n",
       "    </tr>\n",
       "    <tr>\n",
       "      <th>3</th>\n",
       "      <td>Tenure</td>\n",
       "      <td>0.00</td>\n",
       "      <td>10.00</td>\n",
       "      <td>10.00</td>\n",
       "      <td>5.012800</td>\n",
       "      <td>5.000</td>\n",
       "      <td>2.892030</td>\n",
       "      <td>0.010991</td>\n",
       "      <td>-1.165225</td>\n",
       "    </tr>\n",
       "    <tr>\n",
       "      <th>4</th>\n",
       "      <td>Balance</td>\n",
       "      <td>0.00</td>\n",
       "      <td>250898.09</td>\n",
       "      <td>250898.09</td>\n",
       "      <td>76485.889288</td>\n",
       "      <td>97198.540</td>\n",
       "      <td>62394.285254</td>\n",
       "      <td>-0.141109</td>\n",
       "      <td>-1.489412</td>\n",
       "    </tr>\n",
       "    <tr>\n",
       "      <th>5</th>\n",
       "      <td>NumOfProducts</td>\n",
       "      <td>1.00</td>\n",
       "      <td>4.00</td>\n",
       "      <td>3.00</td>\n",
       "      <td>1.530200</td>\n",
       "      <td>1.000</td>\n",
       "      <td>0.581625</td>\n",
       "      <td>0.745568</td>\n",
       "      <td>0.582981</td>\n",
       "    </tr>\n",
       "    <tr>\n",
       "      <th>6</th>\n",
       "      <td>HasCrCard</td>\n",
       "      <td>0.00</td>\n",
       "      <td>1.00</td>\n",
       "      <td>1.00</td>\n",
       "      <td>0.705500</td>\n",
       "      <td>1.000</td>\n",
       "      <td>0.455818</td>\n",
       "      <td>-0.901812</td>\n",
       "      <td>-1.186973</td>\n",
       "    </tr>\n",
       "    <tr>\n",
       "      <th>7</th>\n",
       "      <td>IsActiveMember</td>\n",
       "      <td>0.00</td>\n",
       "      <td>1.00</td>\n",
       "      <td>1.00</td>\n",
       "      <td>0.515100</td>\n",
       "      <td>1.000</td>\n",
       "      <td>0.499772</td>\n",
       "      <td>-0.060437</td>\n",
       "      <td>-1.996747</td>\n",
       "    </tr>\n",
       "    <tr>\n",
       "      <th>8</th>\n",
       "      <td>EstimatedSalary</td>\n",
       "      <td>11.58</td>\n",
       "      <td>199992.48</td>\n",
       "      <td>199980.90</td>\n",
       "      <td>100090.239881</td>\n",
       "      <td>100193.915</td>\n",
       "      <td>57507.617221</td>\n",
       "      <td>0.002085</td>\n",
       "      <td>-1.181518</td>\n",
       "    </tr>\n",
       "    <tr>\n",
       "      <th>9</th>\n",
       "      <td>Exited</td>\n",
       "      <td>0.00</td>\n",
       "      <td>1.00</td>\n",
       "      <td>1.00</td>\n",
       "      <td>0.203700</td>\n",
       "      <td>0.000</td>\n",
       "      <td>0.402748</td>\n",
       "      <td>1.471611</td>\n",
       "      <td>0.165671</td>\n",
       "    </tr>\n",
       "  </tbody>\n",
       "</table>\n",
       "</div>"
      ],
      "text/plain": [
       "        attributes     min        max      range           mean      median  \\\n",
       "0        RowNumber    1.00   10000.00    9999.00    5000.500000    5000.500   \n",
       "1      CreditScore  350.00     850.00     500.00     650.528800     652.000   \n",
       "2              Age   18.00      92.00      74.00      38.921800      37.000   \n",
       "3           Tenure    0.00      10.00      10.00       5.012800       5.000   \n",
       "4          Balance    0.00  250898.09  250898.09   76485.889288   97198.540   \n",
       "5    NumOfProducts    1.00       4.00       3.00       1.530200       1.000   \n",
       "6        HasCrCard    0.00       1.00       1.00       0.705500       1.000   \n",
       "7   IsActiveMember    0.00       1.00       1.00       0.515100       1.000   \n",
       "8  EstimatedSalary   11.58  199992.48  199980.90  100090.239881  100193.915   \n",
       "9           Exited    0.00       1.00       1.00       0.203700       0.000   \n",
       "\n",
       "            std      skew  kurtosis  \n",
       "0   2886.751332  0.000000 -1.200000  \n",
       "1     96.648466 -0.071607 -0.425726  \n",
       "2     10.487282  1.011320  1.395347  \n",
       "3      2.892030  0.010991 -1.165225  \n",
       "4  62394.285254 -0.141109 -1.489412  \n",
       "5      0.581625  0.745568  0.582981  \n",
       "6      0.455818 -0.901812 -1.186973  \n",
       "7      0.499772 -0.060437 -1.996747  \n",
       "8  57507.617221  0.002085 -1.181518  \n",
       "9      0.402748  1.471611  0.165671  "
      ]
     },
     "execution_count": 11,
     "metadata": {},
     "output_type": "execute_result"
    }
   ],
   "source": [
    "stats_table = descriptive_sts(num_attributes)\n",
    "stats_table"
   ]
  },
  {
   "cell_type": "markdown",
   "id": "949379db-869d-427e-acc3-cfd40fe3ab06",
   "metadata": {
    "tags": []
   },
   "source": [
    "### 1.5.2 categorical Attributes"
   ]
  },
  {
   "cell_type": "code",
   "execution_count": 12,
   "id": "83b7e10d-23e1-478a-9ddd-56edc5543236",
   "metadata": {},
   "outputs": [],
   "source": [
    "cat_attributes = df1.select_dtypes(exclude = ['int64', 'float64'])"
   ]
  },
  {
   "cell_type": "code",
   "execution_count": 13,
   "id": "0d00e382-0a2c-4d1f-9daa-ecf5e2025fa2",
   "metadata": {},
   "outputs": [
    {
     "data": {
      "text/plain": [
       "CustomerId    [15634602, 15647311, 15619304, 15701354, 15737...\n",
       "Surname       [Hargrave, Hill, Onio, Boni, Mitchell, Chu, Ba...\n",
       "Geography                              [France, Spain, Germany]\n",
       "Gender                                           [Female, Male]\n",
       "dtype: object"
      ]
     },
     "execution_count": 13,
     "metadata": {},
     "output_type": "execute_result"
    }
   ],
   "source": [
    "cat_attributes.apply(lambda x: x.unique())"
   ]
  },
  {
   "cell_type": "markdown",
   "id": "904ec568-5c92-480a-a094-9dd4d214f192",
   "metadata": {
    "tags": []
   },
   "source": [
    "# 2.0 Feature Engineering"
   ]
  },
  {
   "cell_type": "code",
   "execution_count": 14,
   "id": "3c58e033-7eb9-41ea-9802-81f93822798b",
   "metadata": {},
   "outputs": [],
   "source": [
    "df2 = df1.copy()"
   ]
  },
  {
   "cell_type": "markdown",
   "id": "4ff90327-d482-4e79-b79d-c859748adaf5",
   "metadata": {
    "tags": []
   },
   "source": [
    "# 3.0 Data Filtering"
   ]
  },
  {
   "cell_type": "code",
   "execution_count": 25,
   "id": "149f5053-a7a9-4d14-9bc4-1e8ce6e55260",
   "metadata": {},
   "outputs": [],
   "source": [
    "df3 = df2.copy()"
   ]
  },
  {
   "cell_type": "code",
   "execution_count": 26,
   "id": "236e576d-c0fe-448e-b961-7ef4b7034e8b",
   "metadata": {},
   "outputs": [],
   "source": [
    "# As the number of clients is the same as the number of rows, we can drop this column\n",
    "# RowNumber does not provide useful information (it is a index)\n",
    "# We can also excluse surname\n",
    "df3 = df3.drop(['RowNumber','CustomerId' ,'Surname'], axis = 1 )"
   ]
  },
  {
   "cell_type": "markdown",
   "id": "02966b19-0123-4caf-aec3-6325b8803fca",
   "metadata": {
    "tags": []
   },
   "source": [
    "# 4.0 EDA"
   ]
  },
  {
   "cell_type": "markdown",
   "id": "95dbd3af-ffbb-43b8-92b3-d43d63621918",
   "metadata": {},
   "source": [
    "## 4.1 Univariate Analysis"
   ]
  },
  {
   "cell_type": "code",
   "execution_count": 27,
   "id": "4c72bdac-d61e-4667-aa36-4375eb9974b2",
   "metadata": {},
   "outputs": [],
   "source": [
    "df4 = df3.copy()"
   ]
  },
  {
   "cell_type": "code",
   "execution_count": 64,
   "id": "46f6dbdb-33fc-4b43-916a-faf5cac274c4",
   "metadata": {},
   "outputs": [
    {
     "data": {
      "image/png": "[encoded data removed]",
      "text/plain": [
       "<Figure size 640x480 with 12 Axes>"
      ]
     },
     "metadata": {},
     "output_type": "display_data"
    }
   ],
   "source": [
    "num_attributes.hist(bins = 25);\n",
    "plt.tight_layout()"
   ]
  },
  {
   "cell_type": "code",
   "execution_count": 71,
   "id": "a14d1262-392a-4aee-8a14-2ec2f3955bb6",
   "metadata": {},
   "outputs": [
    {
     "data": {
      "image/png": "[encoded data removed]",
      "text/plain": [
       "<Figure size 640x480 with 4 Axes>"
      ]
     },
     "metadata": {},
     "output_type": "display_data"
    }
   ],
   "source": [
    "# age\n",
    "plt.subplot(2,2,1)\n",
    "sns.boxplot(x = 'Exited', y = 'Age', data = df4)\n",
    "\n",
    "plt.subplot(2,2,2)\n",
    "aux = df4[[ 'Age']]\n",
    "sns.histplot(aux)\n",
    "\n",
    "plt.subplot(2,2,3)\n",
    "aux = df4.loc[df4['Exited'] == 1 , 'Age']\n",
    "sns.histplot(aux)\n",
    "plt.legend('1')\n",
    "\n",
    "plt.subplot(2,2,4)\n",
    "aux = df4.loc[df4['Exited'] == 0 , 'Age']\n",
    "sns.histplot(aux)\n",
    "plt.legend('0')\n",
    "\n",
    "plt.tight_layout()"
   ]
  },
  {
   "cell_type": "markdown",
   "id": "defefdea-6add-47b7-ac6a-aa3ebab508bd",
   "metadata": {},
   "source": [
    "* The mean age of the churned clients is higher than the mean of the not churned client \n",
    "* Age seemss to be a relevant feature"
   ]
  },
  {
   "cell_type": "code",
   "execution_count": 77,
   "id": "24464d1e-2278-4951-b28d-b0c86e4370e4",
   "metadata": {},
   "outputs": [
    {
     "data": {
      "image/png": "[encoded data removed]",
      "text/plain": [
       "<Figure size 640x480 with 4 Axes>"
      ]
     },
     "metadata": {},
     "output_type": "display_data"
    }
   ],
   "source": [
    "# Balance\n",
    "plt.subplot(2,2,1)\n",
    "sns.boxplot(x = 'Exited', y = 'Balance', data = df4)\n",
    "\n",
    "plt.subplot(2,2,2)\n",
    "aux = df4[[ 'Balance']]\n",
    "sns.histplot(aux)\n",
    "\n",
    "plt.subplot(2,2,3)\n",
    "aux = df4.loc[df4['Exited'] == 1 , 'Balance']\n",
    "sns.histplot(aux)\n",
    "plt.xticks( rotation = 90)\n",
    "plt.legend('1')\n",
    "\n",
    "plt.subplot(2,2,4)\n",
    "aux = df4.loc[df4['Exited'] == 0 , 'Balance']\n",
    "sns.histplot(aux)\n",
    "plt.xticks( rotation = 90)\n",
    "plt.legend('0')\n",
    "\n",
    "plt.tight_layout()"
   ]
  },
  {
   "cell_type": "code",
   "execution_count": null,
   "id": "781e2014-854a-48a0-b4a2-9eb47cc6a934",
   "metadata": {},
   "outputs": [],
   "source": []
  },
  {
   "cell_type": "code",
   "execution_count": null,
   "id": "b55b29e6-1ac4-45a7-a915-831db2cdcb98",
   "metadata": {},
   "outputs": [],
   "source": []
  },
  {
   "cell_type": "code",
   "execution_count": null,
   "id": "75cbe9e3-fe9a-43b5-99c2-44237041b266",
   "metadata": {},
   "outputs": [],
   "source": []
  },
  {
   "cell_type": "code",
   "execution_count": 28,
   "id": "ccdf2ac4-ce08-40d6-834e-10e7b1bc29f6",
   "metadata": {},
   "outputs": [
    {
     "data": {
      "text/html": [
       "<div>\n",
       "<style scoped>\n",
       "    .dataframe tbody tr th:only-of-type {\n",
       "        vertical-align: middle;\n",
       "    }\n",
       "\n",
       "    .dataframe tbody tr th {\n",
       "        vertical-align: top;\n",
       "    }\n",
       "\n",
       "    .dataframe thead th {\n",
       "        text-align: right;\n",
       "    }\n",
       "</style>\n",
       "<table border=\"1\" class=\"dataframe\">\n",
       "  <thead>\n",
       "    <tr style=\"text-align: right;\">\n",
       "      <th></th>\n",
       "      <th>CreditScore</th>\n",
       "      <th>Geography</th>\n",
       "      <th>Gender</th>\n",
       "      <th>Age</th>\n",
       "      <th>Tenure</th>\n",
       "      <th>Balance</th>\n",
       "      <th>NumOfProducts</th>\n",
       "      <th>HasCrCard</th>\n",
       "      <th>IsActiveMember</th>\n",
       "      <th>EstimatedSalary</th>\n",
       "      <th>Exited</th>\n",
       "    </tr>\n",
       "  </thead>\n",
       "  <tbody>\n",
       "    <tr>\n",
       "      <th>0</th>\n",
       "      <td>619</td>\n",
       "      <td>France</td>\n",
       "      <td>Female</td>\n",
       "      <td>42</td>\n",
       "      <td>2</td>\n",
       "      <td>0.00</td>\n",
       "      <td>1</td>\n",
       "      <td>1</td>\n",
       "      <td>1</td>\n",
       "      <td>101348.88</td>\n",
       "      <td>1</td>\n",
       "    </tr>\n",
       "    <tr>\n",
       "      <th>1</th>\n",
       "      <td>608</td>\n",
       "      <td>Spain</td>\n",
       "      <td>Female</td>\n",
       "      <td>41</td>\n",
       "      <td>1</td>\n",
       "      <td>83807.86</td>\n",
       "      <td>1</td>\n",
       "      <td>0</td>\n",
       "      <td>1</td>\n",
       "      <td>112542.58</td>\n",
       "      <td>0</td>\n",
       "    </tr>\n",
       "    <tr>\n",
       "      <th>2</th>\n",
       "      <td>502</td>\n",
       "      <td>France</td>\n",
       "      <td>Female</td>\n",
       "      <td>42</td>\n",
       "      <td>8</td>\n",
       "      <td>159660.80</td>\n",
       "      <td>3</td>\n",
       "      <td>1</td>\n",
       "      <td>0</td>\n",
       "      <td>113931.57</td>\n",
       "      <td>1</td>\n",
       "    </tr>\n",
       "    <tr>\n",
       "      <th>3</th>\n",
       "      <td>699</td>\n",
       "      <td>France</td>\n",
       "      <td>Female</td>\n",
       "      <td>39</td>\n",
       "      <td>1</td>\n",
       "      <td>0.00</td>\n",
       "      <td>2</td>\n",
       "      <td>0</td>\n",
       "      <td>0</td>\n",
       "      <td>93826.63</td>\n",
       "      <td>0</td>\n",
       "    </tr>\n",
       "    <tr>\n",
       "      <th>4</th>\n",
       "      <td>850</td>\n",
       "      <td>Spain</td>\n",
       "      <td>Female</td>\n",
       "      <td>43</td>\n",
       "      <td>2</td>\n",
       "      <td>125510.82</td>\n",
       "      <td>1</td>\n",
       "      <td>1</td>\n",
       "      <td>1</td>\n",
       "      <td>79084.10</td>\n",
       "      <td>0</td>\n",
       "    </tr>\n",
       "  </tbody>\n",
       "</table>\n",
       "</div>"
      ],
      "text/plain": [
       "   CreditScore Geography  Gender  Age  Tenure    Balance  NumOfProducts  \\\n",
       "0          619    France  Female   42       2       0.00              1   \n",
       "1          608     Spain  Female   41       1   83807.86              1   \n",
       "2          502    France  Female   42       8  159660.80              3   \n",
       "3          699    France  Female   39       1       0.00              2   \n",
       "4          850     Spain  Female   43       2  125510.82              1   \n",
       "\n",
       "   HasCrCard  IsActiveMember  EstimatedSalary  Exited  \n",
       "0          1               1        101348.88       1  \n",
       "1          0               1        112542.58       0  \n",
       "2          1               0        113931.57       1  \n",
       "3          0               0         93826.63       0  \n",
       "4          1               1         79084.10       0  "
      ]
     },
     "execution_count": 28,
     "metadata": {},
     "output_type": "execute_result"
    }
   ],
   "source": [
    "df4.head()"
   ]
  },
  {
   "cell_type": "code",
   "execution_count": null,
   "id": "79a336d3-5268-46d9-9aeb-cfb63b844905",
   "metadata": {},
   "outputs": [],
   "source": []
  },
  {
   "cell_type": "code",
   "execution_count": null,
   "id": "9e788731-42a0-4df8-9a77-874764027b44",
   "metadata": {},
   "outputs": [],
   "source": []
  },
  {
   "cell_type": "code",
   "execution_count": null,
   "id": "ab6f1356-1de2-4a0b-8044-707122197b4b",
   "metadata": {},
   "outputs": [],
   "source": []
  },
  {
   "cell_type": "code",
   "execution_count": null,
   "id": "53ec062b-4c79-4a00-bac0-df2b614df166",
   "metadata": {},
   "outputs": [],
   "source": []
  },
  {
   "cell_type": "code",
   "execution_count": null,
   "id": "d7c4ff3f-f161-4fbc-83c6-c80daf848e85",
   "metadata": {},
   "outputs": [],
   "source": []
  },
  {
   "cell_type": "code",
   "execution_count": null,
   "id": "6dd6b10b-f893-4706-832a-7917d7e345d7",
   "metadata": {},
   "outputs": [],
   "source": []
  },
  {
   "cell_type": "code",
   "execution_count": null,
   "id": "3edacaa6-f984-4633-8530-2abf73a0bc24",
   "metadata": {},
   "outputs": [],
   "source": []
  },
  {
   "cell_type": "markdown",
   "id": "c8aeef27-3b6f-43d7-bbeb-876caf25e169",
   "metadata": {},
   "source": [
    "## 4.1 Multivariate Analysis"
   ]
  },
  {
   "cell_type": "code",
   "execution_count": null,
   "id": "cc904b86-f3bd-4eeb-9e6c-436ae3fd1a7d",
   "metadata": {},
   "outputs": [],
   "source": []
  },
  {
   "cell_type": "code",
   "execution_count": null,
   "id": "49130eab-3506-4b0e-b1be-cec37509e40c",
   "metadata": {},
   "outputs": [],
   "source": []
  },
  {
   "cell_type": "markdown",
   "id": "2372d37f-5030-426a-97da-4bff13a6f0b2",
   "metadata": {},
   "source": [
    "# 5.0 Data Preparation"
   ]
  },
  {
   "cell_type": "code",
   "execution_count": null,
   "id": "064f36b2-6d50-4f99-8fe5-399977269bdf",
   "metadata": {},
   "outputs": [],
   "source": []
  },
  {
   "cell_type": "markdown",
   "id": "4c918044-aa1d-4eb9-bdf8-1aed1dd79383",
   "metadata": {},
   "source": [
    "# 6.0 Feature Selection"
   ]
  },
  {
   "cell_type": "code",
   "execution_count": null,
   "id": "2ec2d32b-3ddd-4241-be61-d29ff641de7e",
   "metadata": {},
   "outputs": [],
   "source": []
  },
  {
   "cell_type": "markdown",
   "id": "a94b5ad0-ddd6-42e5-b4a7-90ca95071ff3",
   "metadata": {},
   "source": [
    "# 7.0 Machine Learning"
   ]
  },
  {
   "cell_type": "code",
   "execution_count": null,
   "id": "6f77677b-0016-4625-a1b0-1df2700739ff",
   "metadata": {},
   "outputs": [],
   "source": []
  },
  {
   "cell_type": "markdown",
   "id": "38ea97e1-7c56-42f6-8db4-cdf5d2b5e6a9",
   "metadata": {
    "tags": []
   },
   "source": [
    "# 8.0 Hyperparameter Fine Tune"
   ]
  },
  {
   "cell_type": "code",
   "execution_count": null,
   "id": "9c9dd886-948b-403d-b43a-23f5de210875",
   "metadata": {},
   "outputs": [],
   "source": []
  },
  {
   "cell_type": "markdown",
   "id": "39fc090b-d797-4114-a666-19160f10c738",
   "metadata": {
    "tags": []
   },
   "source": [
    "# 9.0 Error Interpreration"
   ]
  },
  {
   "cell_type": "code",
   "execution_count": null,
   "id": "f9c324f7-077d-4cf9-9e1f-1c996b76413d",
   "metadata": {},
   "outputs": [],
   "source": []
  },
  {
   "cell_type": "markdown",
   "id": "58ee145d-2093-4a2c-9316-dc02a1dda2d9",
   "metadata": {
    "tags": []
   },
   "source": [
    "# 10.0 Deploy Model"
   ]
  },
  {
   "cell_type": "code",
   "execution_count": null,
   "id": "4d5ab026-4f57-476f-b4c7-a479cda2612a",
   "metadata": {},
   "outputs": [],
   "source": []
  }
 ],
 "metadata": {
  "environment": {
   "kernel": "python3",
   "name": "common-cpu.m100",
   "type": "gcloud",
   "uri": "gcr.io/deeplearning-platform-release/base-cpu:m100"
  },
  "kernelspec": {
   "display_name": "Python 3",
   "language": "python",
   "name": "python3"
  },
  "language_info": {
   "codemirror_mode": {
    "name": "ipython",
    "version": 3
   },
   "file_extension": ".py",
   "mimetype": "text/x-python",
   "name": "python",
   "nbconvert_exporter": "python",
   "pygments_lexer": "ipython3",
   "version": "3.7.12"
  }
 },
 "nbformat": 4,
 "nbformat_minor": 5
}
